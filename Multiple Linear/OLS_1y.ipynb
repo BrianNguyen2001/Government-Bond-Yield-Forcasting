{
 "cells": [
  {
   "cell_type": "code",
   "execution_count": 1,
   "metadata": {},
   "outputs": [],
   "source": [
    "import numpy as np\n",
    "import pandas as pd \n",
    "import matplotlib.pyplot as plt \n",
    "from statsmodels.tsa.seasonal import seasonal_decompose \n",
    "import statsmodels.api as sm\n",
    "import seaborn as sns \n",
    "import statsmodels"
   ]
  },
  {
   "cell_type": "code",
   "execution_count": 2,
   "metadata": {},
   "outputs": [],
   "source": [
    "from sklearn.model_selection import train_test_split\n",
    "from sklearn.tree import DecisionTreeRegressor\n",
    "from sklearn.metrics import mean_squared_error, mean_absolute_error, mean_absolute_percentage_error"
   ]
  },
  {
   "cell_type": "code",
   "execution_count": 3,
   "metadata": {},
   "outputs": [],
   "source": [
    "df = pd.read_csv(r'Bond-VN.csv', index_col= 0,parse_dates=True)\n",
    "df = df[['GGVF5Y','GGVF1Y','GGVF3Y','CPI','FER','Baserate','FIR','Stockreturn','Fiscal','Pubdebt','CurrentAcc']]\n"
   ]
  },
  {
   "cell_type": "code",
   "execution_count": 4,
   "metadata": {},
   "outputs": [],
   "source": [
    "nobs = int(len(df)*0.2)\n",
    "df_train, df_test = df[0:-nobs], df[-nobs:]"
   ]
  },
  {
   "cell_type": "code",
   "execution_count": 5,
   "metadata": {},
   "outputs": [
    {
     "data": {
      "text/html": [
       "<div>\n",
       "<style scoped>\n",
       "    .dataframe tbody tr th:only-of-type {\n",
       "        vertical-align: middle;\n",
       "    }\n",
       "\n",
       "    .dataframe tbody tr th {\n",
       "        vertical-align: top;\n",
       "    }\n",
       "\n",
       "    .dataframe thead th {\n",
       "        text-align: right;\n",
       "    }\n",
       "</style>\n",
       "<table border=\"1\" class=\"dataframe\">\n",
       "  <thead>\n",
       "    <tr style=\"text-align: right;\">\n",
       "      <th></th>\n",
       "      <th>GGVF5Y</th>\n",
       "      <th>GGVF1Y</th>\n",
       "      <th>GGVF3Y</th>\n",
       "      <th>CPI</th>\n",
       "      <th>FER</th>\n",
       "      <th>Baserate</th>\n",
       "      <th>FIR</th>\n",
       "      <th>Stockreturn</th>\n",
       "      <th>Fiscal</th>\n",
       "      <th>Pubdebt</th>\n",
       "      <th>CurrentAcc</th>\n",
       "    </tr>\n",
       "  </thead>\n",
       "  <tbody>\n",
       "    <tr>\n",
       "      <th>count</th>\n",
       "      <td>162.000000</td>\n",
       "      <td>162.000000</td>\n",
       "      <td>162.000000</td>\n",
       "      <td>162.000000</td>\n",
       "      <td>1.620000e+02</td>\n",
       "      <td>162.000000</td>\n",
       "      <td>162.000000</td>\n",
       "      <td>162.000000</td>\n",
       "      <td>162.000000</td>\n",
       "      <td>162.000000</td>\n",
       "      <td>162.000000</td>\n",
       "    </tr>\n",
       "    <tr>\n",
       "      <th>mean</th>\n",
       "      <td>0.080716</td>\n",
       "      <td>0.071499</td>\n",
       "      <td>0.076911</td>\n",
       "      <td>0.601198</td>\n",
       "      <td>3.113248e+10</td>\n",
       "      <td>8.885802</td>\n",
       "      <td>1.479954</td>\n",
       "      <td>0.764756</td>\n",
       "      <td>-2.879439</td>\n",
       "      <td>50.436752</td>\n",
       "      <td>-0.392593</td>\n",
       "    </tr>\n",
       "    <tr>\n",
       "      <th>std</th>\n",
       "      <td>0.033162</td>\n",
       "      <td>0.036271</td>\n",
       "      <td>0.034570</td>\n",
       "      <td>0.793960</td>\n",
       "      <td>1.633594e+10</td>\n",
       "      <td>1.085656</td>\n",
       "      <td>1.826785</td>\n",
       "      <td>8.797782</td>\n",
       "      <td>1.856116</td>\n",
       "      <td>6.870214</td>\n",
       "      <td>5.182574</td>\n",
       "    </tr>\n",
       "    <tr>\n",
       "      <th>min</th>\n",
       "      <td>0.020000</td>\n",
       "      <td>0.015500</td>\n",
       "      <td>0.018380</td>\n",
       "      <td>-0.756000</td>\n",
       "      <td>1.246660e+10</td>\n",
       "      <td>7.000000</td>\n",
       "      <td>0.310000</td>\n",
       "      <td>-24.009196</td>\n",
       "      <td>-5.027260</td>\n",
       "      <td>38.406899</td>\n",
       "      <td>-11.000000</td>\n",
       "    </tr>\n",
       "    <tr>\n",
       "      <th>25%</th>\n",
       "      <td>0.054277</td>\n",
       "      <td>0.043233</td>\n",
       "      <td>0.049960</td>\n",
       "      <td>0.131250</td>\n",
       "      <td>1.644710e+10</td>\n",
       "      <td>8.500000</td>\n",
       "      <td>0.375000</td>\n",
       "      <td>-3.245701</td>\n",
       "      <td>-4.260530</td>\n",
       "      <td>45.166601</td>\n",
       "      <td>-3.800000</td>\n",
       "    </tr>\n",
       "    <tr>\n",
       "      <th>50%</th>\n",
       "      <td>0.080000</td>\n",
       "      <td>0.067000</td>\n",
       "      <td>0.076030</td>\n",
       "      <td>0.404500</td>\n",
       "      <td>2.589349e+10</td>\n",
       "      <td>9.000000</td>\n",
       "      <td>0.500000</td>\n",
       "      <td>0.774177</td>\n",
       "      <td>-3.481840</td>\n",
       "      <td>51.674497</td>\n",
       "      <td>2.100000</td>\n",
       "    </tr>\n",
       "    <tr>\n",
       "      <th>75%</th>\n",
       "      <td>0.100880</td>\n",
       "      <td>0.092365</td>\n",
       "      <td>0.097433</td>\n",
       "      <td>0.831250</td>\n",
       "      <td>3.652729e+10</td>\n",
       "      <td>9.000000</td>\n",
       "      <td>2.000000</td>\n",
       "      <td>4.193213</td>\n",
       "      <td>-0.897920</td>\n",
       "      <td>57.097769</td>\n",
       "      <td>2.900000</td>\n",
       "    </tr>\n",
       "    <tr>\n",
       "      <th>max</th>\n",
       "      <td>0.203330</td>\n",
       "      <td>0.211670</td>\n",
       "      <td>0.206670</td>\n",
       "      <td>3.912000</td>\n",
       "      <td>6.881210e+10</td>\n",
       "      <td>14.000000</td>\n",
       "      <td>9.000000</td>\n",
       "      <td>38.517100</td>\n",
       "      <td>1.224610</td>\n",
       "      <td>59.662135</td>\n",
       "      <td>6.000000</td>\n",
       "    </tr>\n",
       "  </tbody>\n",
       "</table>\n",
       "</div>"
      ],
      "text/plain": [
       "           GGVF5Y      GGVF1Y      GGVF3Y         CPI           FER  \\\n",
       "count  162.000000  162.000000  162.000000  162.000000  1.620000e+02   \n",
       "mean     0.080716    0.071499    0.076911    0.601198  3.113248e+10   \n",
       "std      0.033162    0.036271    0.034570    0.793960  1.633594e+10   \n",
       "min      0.020000    0.015500    0.018380   -0.756000  1.246660e+10   \n",
       "25%      0.054277    0.043233    0.049960    0.131250  1.644710e+10   \n",
       "50%      0.080000    0.067000    0.076030    0.404500  2.589349e+10   \n",
       "75%      0.100880    0.092365    0.097433    0.831250  3.652729e+10   \n",
       "max      0.203330    0.211670    0.206670    3.912000  6.881210e+10   \n",
       "\n",
       "         Baserate         FIR  Stockreturn      Fiscal     Pubdebt  CurrentAcc  \n",
       "count  162.000000  162.000000   162.000000  162.000000  162.000000  162.000000  \n",
       "mean     8.885802    1.479954     0.764756   -2.879439   50.436752   -0.392593  \n",
       "std      1.085656    1.826785     8.797782    1.856116    6.870214    5.182574  \n",
       "min      7.000000    0.310000   -24.009196   -5.027260   38.406899  -11.000000  \n",
       "25%      8.500000    0.375000    -3.245701   -4.260530   45.166601   -3.800000  \n",
       "50%      9.000000    0.500000     0.774177   -3.481840   51.674497    2.100000  \n",
       "75%      9.000000    2.000000     4.193213   -0.897920   57.097769    2.900000  \n",
       "max     14.000000    9.000000    38.517100    1.224610   59.662135    6.000000  "
      ]
     },
     "execution_count": 5,
     "metadata": {},
     "output_type": "execute_result"
    }
   ],
   "source": [
    "df.describe()"
   ]
  },
  {
   "cell_type": "markdown",
   "metadata": {},
   "source": [
    "# Linear Regression (OLS)"
   ]
  },
  {
   "cell_type": "code",
   "execution_count": 6,
   "metadata": {},
   "outputs": [],
   "source": [
    "y_train = df_train.GGVF1Y\n",
    "x_train = df_train[['GGVF5Y','CPI','FER','Baserate','FIR','Stockreturn','Fiscal','Pubdebt','CurrentAcc']]\n",
    "\n",
    "y_test = df_test.GGVF1Y\n",
    "x_test = df_test[['GGVF5Y','CPI','FER','Baserate','FIR','Stockreturn','Fiscal','Pubdebt','CurrentAcc']]\n",
    "\n",
    "index_test = y_test.index"
   ]
  },
  {
   "cell_type": "code",
   "execution_count": 7,
   "metadata": {},
   "outputs": [],
   "source": [
    "x_train,y_train = np.array(x_train), np.array(y_train)\n",
    "x_train = sm.add_constant(x_train)\n"
   ]
  },
  {
   "cell_type": "code",
   "execution_count": 8,
   "metadata": {},
   "outputs": [],
   "source": [
    "x_test, y_test = np.array(x_test), np.array(y_test)\n",
    "x_test = sm.add_constant(x_test,has_constant='add')"
   ]
  },
  {
   "cell_type": "code",
   "execution_count": 9,
   "metadata": {},
   "outputs": [
    {
     "name": "stdout",
     "output_type": "stream",
     "text": [
      "                            OLS Regression Results                            \n",
      "==============================================================================\n",
      "Dep. Variable:                      y   R-squared:                       0.980\n",
      "Model:                            OLS   Adj. R-squared:                  0.978\n",
      "Method:                 Least Squares   F-statistic:                     639.5\n",
      "Date:                Wed, 23 Mar 2022   Prob (F-statistic):           6.16e-97\n",
      "Time:                        15:11:27   Log-Likelihood:                 508.68\n",
      "No. Observations:                 130   AIC:                            -997.4\n",
      "Df Residuals:                     120   BIC:                            -968.7\n",
      "Df Model:                           9                                         \n",
      "Covariance Type:            nonrobust                                         \n",
      "==============================================================================\n",
      "                 coef    std err          t      P>|t|      [0.025      0.975]\n",
      "------------------------------------------------------------------------------\n",
      "const         -0.0107      0.009     -1.204      0.231      -0.028       0.007\n",
      "x1             1.1304      0.039     28.917      0.000       1.053       1.208\n",
      "x2            -0.0012      0.001     -1.928      0.056      -0.002    3.18e-05\n",
      "x3          1.975e-13    1.1e-13      1.794      0.075   -2.05e-14    4.16e-13\n",
      "x4         -9.813e-05      0.001     -0.136      0.892      -0.002       0.001\n",
      "x5            -0.0006      0.000     -1.282      0.202      -0.001       0.000\n",
      "x6          3.883e-05   4.92e-05      0.789      0.432   -5.86e-05       0.000\n",
      "x7             0.0011      0.000      2.379      0.019       0.000       0.002\n",
      "x8            -0.0002      0.000     -1.229      0.221      -0.001       0.000\n",
      "x9            -0.0003      0.000     -2.535      0.013      -0.001   -6.27e-05\n",
      "==============================================================================\n",
      "Omnibus:                        6.180   Durbin-Watson:                   0.474\n",
      "Prob(Omnibus):                  0.046   Jarque-Bera (JB):                6.376\n",
      "Skew:                          -0.359   Prob(JB):                       0.0413\n",
      "Kurtosis:                       3.813   Cond. No.                     2.30e+12\n",
      "==============================================================================\n",
      "\n",
      "Notes:\n",
      "[1] Standard Errors assume that the covariance matrix of the errors is correctly specified.\n",
      "[2] The condition number is large, 2.3e+12. This might indicate that there are\n",
      "strong multicollinearity or other numerical problems.\n"
     ]
    }
   ],
   "source": [
    "linear_regression_model = sm.OLS(y_train,x_train).fit()\n",
    "print(linear_regression_model.summary())"
   ]
  },
  {
   "cell_type": "markdown",
   "metadata": {},
   "source": [
    "***=> CPI, Oilrate, Stockreturn, Fiscal và CurrentAcc không có ý nghĩa thống kê. Tuy nhiên ta không thể loại bỏ các biến này được. Ta cần kiểm tra sự phụ thuộc của chúng vào các biến độc lập khác.***"
   ]
  },
  {
   "cell_type": "markdown",
   "metadata": {},
   "source": [
    "# Đa cộng tuyến"
   ]
  },
  {
   "cell_type": "code",
   "execution_count": 10,
   "metadata": {},
   "outputs": [
    {
     "name": "stdout",
     "output_type": "stream",
     "text": [
      "Pearson correlation coefficient matrix of each variables:\n",
      "\n"
     ]
    },
    {
     "data": {
      "text/html": [
       "<div>\n",
       "<style scoped>\n",
       "    .dataframe tbody tr th:only-of-type {\n",
       "        vertical-align: middle;\n",
       "    }\n",
       "\n",
       "    .dataframe tbody tr th {\n",
       "        vertical-align: top;\n",
       "    }\n",
       "\n",
       "    .dataframe thead th {\n",
       "        text-align: right;\n",
       "    }\n",
       "</style>\n",
       "<table border=\"1\" class=\"dataframe\">\n",
       "  <thead>\n",
       "    <tr style=\"text-align: right;\">\n",
       "      <th></th>\n",
       "      <th>GGVF1Y</th>\n",
       "      <th>GGVF5Y</th>\n",
       "      <th>CPI</th>\n",
       "      <th>FER</th>\n",
       "      <th>Baserate</th>\n",
       "      <th>FIR</th>\n",
       "      <th>Stockreturn</th>\n",
       "      <th>Fiscal</th>\n",
       "      <th>Pubdebt</th>\n",
       "      <th>CurrentAcc</th>\n",
       "    </tr>\n",
       "  </thead>\n",
       "  <tbody>\n",
       "    <tr>\n",
       "      <th>GGVF1Y</th>\n",
       "      <td>1.00</td>\n",
       "      <td>0.99</td>\n",
       "      <td>0.41</td>\n",
       "      <td>-0.71</td>\n",
       "      <td>0.36</td>\n",
       "      <td>0.05</td>\n",
       "      <td>-0.08</td>\n",
       "      <td>0.60</td>\n",
       "      <td>-0.72</td>\n",
       "      <td>-0.48</td>\n",
       "    </tr>\n",
       "    <tr>\n",
       "      <th>GGVF5Y</th>\n",
       "      <td>0.99</td>\n",
       "      <td>1.00</td>\n",
       "      <td>0.40</td>\n",
       "      <td>-0.77</td>\n",
       "      <td>0.32</td>\n",
       "      <td>-0.00</td>\n",
       "      <td>-0.07</td>\n",
       "      <td>0.55</td>\n",
       "      <td>-0.71</td>\n",
       "      <td>-0.44</td>\n",
       "    </tr>\n",
       "    <tr>\n",
       "      <th>CPI</th>\n",
       "      <td>0.41</td>\n",
       "      <td>0.40</td>\n",
       "      <td>1.00</td>\n",
       "      <td>-0.28</td>\n",
       "      <td>0.09</td>\n",
       "      <td>0.21</td>\n",
       "      <td>-0.15</td>\n",
       "      <td>0.43</td>\n",
       "      <td>-0.42</td>\n",
       "      <td>-0.36</td>\n",
       "    </tr>\n",
       "    <tr>\n",
       "      <th>FER</th>\n",
       "      <td>-0.71</td>\n",
       "      <td>-0.77</td>\n",
       "      <td>-0.28</td>\n",
       "      <td>1.00</td>\n",
       "      <td>0.16</td>\n",
       "      <td>0.04</td>\n",
       "      <td>0.00</td>\n",
       "      <td>-0.47</td>\n",
       "      <td>0.70</td>\n",
       "      <td>0.41</td>\n",
       "    </tr>\n",
       "    <tr>\n",
       "      <th>Baserate</th>\n",
       "      <td>0.36</td>\n",
       "      <td>0.32</td>\n",
       "      <td>0.09</td>\n",
       "      <td>0.16</td>\n",
       "      <td>1.00</td>\n",
       "      <td>0.12</td>\n",
       "      <td>-0.16</td>\n",
       "      <td>0.24</td>\n",
       "      <td>-0.02</td>\n",
       "      <td>-0.05</td>\n",
       "    </tr>\n",
       "    <tr>\n",
       "      <th>FIR</th>\n",
       "      <td>0.05</td>\n",
       "      <td>-0.00</td>\n",
       "      <td>0.21</td>\n",
       "      <td>0.04</td>\n",
       "      <td>0.12</td>\n",
       "      <td>1.00</td>\n",
       "      <td>0.02</td>\n",
       "      <td>0.59</td>\n",
       "      <td>-0.51</td>\n",
       "      <td>-0.52</td>\n",
       "    </tr>\n",
       "    <tr>\n",
       "      <th>Stockreturn</th>\n",
       "      <td>-0.08</td>\n",
       "      <td>-0.07</td>\n",
       "      <td>-0.15</td>\n",
       "      <td>0.00</td>\n",
       "      <td>-0.16</td>\n",
       "      <td>0.02</td>\n",
       "      <td>1.00</td>\n",
       "      <td>-0.13</td>\n",
       "      <td>0.06</td>\n",
       "      <td>0.11</td>\n",
       "    </tr>\n",
       "    <tr>\n",
       "      <th>Fiscal</th>\n",
       "      <td>0.60</td>\n",
       "      <td>0.55</td>\n",
       "      <td>0.43</td>\n",
       "      <td>-0.47</td>\n",
       "      <td>0.24</td>\n",
       "      <td>0.59</td>\n",
       "      <td>-0.13</td>\n",
       "      <td>1.00</td>\n",
       "      <td>-0.80</td>\n",
       "      <td>-0.62</td>\n",
       "    </tr>\n",
       "    <tr>\n",
       "      <th>Pubdebt</th>\n",
       "      <td>-0.72</td>\n",
       "      <td>-0.71</td>\n",
       "      <td>-0.42</td>\n",
       "      <td>0.70</td>\n",
       "      <td>-0.02</td>\n",
       "      <td>-0.51</td>\n",
       "      <td>0.06</td>\n",
       "      <td>-0.80</td>\n",
       "      <td>1.00</td>\n",
       "      <td>0.70</td>\n",
       "    </tr>\n",
       "    <tr>\n",
       "      <th>CurrentAcc</th>\n",
       "      <td>-0.48</td>\n",
       "      <td>-0.44</td>\n",
       "      <td>-0.36</td>\n",
       "      <td>0.41</td>\n",
       "      <td>-0.05</td>\n",
       "      <td>-0.52</td>\n",
       "      <td>0.11</td>\n",
       "      <td>-0.62</td>\n",
       "      <td>0.70</td>\n",
       "      <td>1.00</td>\n",
       "    </tr>\n",
       "  </tbody>\n",
       "</table>\n",
       "</div>"
      ],
      "text/plain": [
       "             GGVF1Y  GGVF5Y   CPI   FER  Baserate   FIR  Stockreturn  Fiscal  \\\n",
       "GGVF1Y         1.00    0.99  0.41 -0.71      0.36  0.05        -0.08    0.60   \n",
       "GGVF5Y         0.99    1.00  0.40 -0.77      0.32 -0.00        -0.07    0.55   \n",
       "CPI            0.41    0.40  1.00 -0.28      0.09  0.21        -0.15    0.43   \n",
       "FER           -0.71   -0.77 -0.28  1.00      0.16  0.04         0.00   -0.47   \n",
       "Baserate       0.36    0.32  0.09  0.16      1.00  0.12        -0.16    0.24   \n",
       "FIR            0.05   -0.00  0.21  0.04      0.12  1.00         0.02    0.59   \n",
       "Stockreturn   -0.08   -0.07 -0.15  0.00     -0.16  0.02         1.00   -0.13   \n",
       "Fiscal         0.60    0.55  0.43 -0.47      0.24  0.59        -0.13    1.00   \n",
       "Pubdebt       -0.72   -0.71 -0.42  0.70     -0.02 -0.51         0.06   -0.80   \n",
       "CurrentAcc    -0.48   -0.44 -0.36  0.41     -0.05 -0.52         0.11   -0.62   \n",
       "\n",
       "             Pubdebt  CurrentAcc  \n",
       "GGVF1Y         -0.72       -0.48  \n",
       "GGVF5Y         -0.71       -0.44  \n",
       "CPI            -0.42       -0.36  \n",
       "FER             0.70        0.41  \n",
       "Baserate       -0.02       -0.05  \n",
       "FIR            -0.51       -0.52  \n",
       "Stockreturn     0.06        0.11  \n",
       "Fiscal         -0.80       -0.62  \n",
       "Pubdebt         1.00        0.70  \n",
       "CurrentAcc      0.70        1.00  "
      ]
     },
     "execution_count": 10,
     "metadata": {},
     "output_type": "execute_result"
    }
   ],
   "source": [
    "corr = df[['GGVF1Y','GGVF5Y','CPI','FER','Baserate','FIR','Stockreturn','Fiscal','Pubdebt','CurrentAcc']].corr()\n",
    "print('Pearson correlation coefficient matrix of each variables:\\n')\n",
    "corr_table = pd.DataFrame(round(corr,2))\n",
    "corr_table"
   ]
  },
  {
   "cell_type": "code",
   "execution_count": 11,
   "metadata": {},
   "outputs": [],
   "source": [
    "corr_table.to_excel('OLS_1y.xlsx')"
   ]
  },
  {
   "cell_type": "code",
   "execution_count": 12,
   "metadata": {},
   "outputs": [
    {
     "name": "stderr",
     "output_type": "stream",
     "text": [
      "<ipython-input-12-65927551eb8b>:2: DeprecationWarning: `np.bool` is a deprecated alias for the builtin `bool`. To silence this warning, use `bool` by itself. Doing this will not modify any behavior and is safe. If you specifically wanted the numpy scalar type, use `np.bool_` here.\n",
      "Deprecated in NumPy 1.20; for more details and guidance: https://numpy.org/devdocs/release/1.20.0-notes.html#deprecations\n",
      "  mask = np.zeros_like(corr, dtype=np.bool)\n"
     ]
    },
    {
     "data": {
      "image/png": "[encoded data removed]",
      "text/plain": [
       "<Figure size 2160x720 with 2 Axes>"
      ]
     },
     "metadata": {
      "needs_background": "light"
     },
     "output_type": "display_data"
    }
   ],
   "source": [
    "# Generate a mask for the diagonal cell\n",
    "mask = np.zeros_like(corr, dtype=np.bool)\n",
    "np.fill_diagonal(mask, val=True)\n",
    "\n",
    "# Initialize matplotlib figure\n",
    "fig, ax = plt.subplots(figsize=(30, 10))\n",
    "\n",
    "# Generate a custom diverging colormap\n",
    "cmap = sns.diverging_palette(220, 10, as_cmap=True, sep=100)\n",
    "cmap.set_bad('grey')\n",
    "\n",
    "# Draw the heatmap with the mask and correct aspect ratio\n",
    "sns.heatmap(corr, mask=mask, cmap=cmap, vmin=-1, vmax=1, center=0, linewidths=.5)\n",
    "fig.suptitle('Pearson correlation coefficient matrix', fontsize=14)\n",
    "ax.tick_params(axis='both', which='major', labelsize=10)\n"
   ]
  },
  {
   "cell_type": "markdown",
   "metadata": {},
   "source": [
    "# Tự tương quan"
   ]
  },
  {
   "cell_type": "code",
   "execution_count": 13,
   "metadata": {},
   "outputs": [
    {
     "name": "stdout",
     "output_type": "stream",
     "text": [
      "Durbin-Watson: 0.4736739324964085 \n",
      "\n",
      "Signs of positive autocorrelation \n",
      "\n",
      "Assumption not satisfied\n"
     ]
    }
   ],
   "source": [
    "from statsmodels.stats.stattools import durbin_watson\n",
    "\n",
    "durbinWatson = durbin_watson(linear_regression_model.resid)\n",
    "\n",
    "print('Durbin-Watson:', durbinWatson,'\\n')\n",
    "if durbinWatson < 1.5:\n",
    "    print('Signs of positive autocorrelation', '\\n')\n",
    "    print('Assumption not satisfied')\n",
    "elif durbinWatson > 2.5:\n",
    "    print('Signs of negative autocorrelation', '\\n')\n",
    "    print('Assumption not satisfied')\n",
    "else:\n",
    "    print('Little to no autocorrelation', '\\n')\n",
    "    print('Assumption satisfied')"
   ]
  },
  {
   "cell_type": "markdown",
   "metadata": {},
   "source": [
    "# Kiểm định Ramsey"
   ]
  },
  {
   "cell_type": "code",
   "execution_count": 14,
   "metadata": {},
   "outputs": [
    {
     "name": "stdout",
     "output_type": "stream",
     "text": [
      "P-value of Ramsey test: 0.33889125813060095\n",
      "Vậy với α = 0,1 và P-value > 0.1, mô hình gốc có sự thiếu biến.\n"
     ]
    }
   ],
   "source": [
    "# Kiểm định Ramsey\n",
    "ramsey_test = statsmodels.stats.diagnostic.linear_reset(linear_regression_model, power=2, test_type='fitted')\n",
    "print(f'P-value of Ramsey test: {ramsey_test.pvalue}')\n",
    "\n",
    "if ramsey_test.pvalue < 0.1:\n",
    "    print('Vậy với α = 0,1 và P-value < 0.1, mô hình gốc không có sự thiếu biến.')\n",
    "else:\n",
    "    print('Vậy với α = 0,1 và P-value > 0.1, mô hình gốc có sự thiếu biến.')"
   ]
  },
  {
   "cell_type": "markdown",
   "metadata": {},
   "source": [
    "***Trực quan hóa***"
   ]
  },
  {
   "cell_type": "code",
   "execution_count": 15,
   "metadata": {},
   "outputs": [],
   "source": [
    "prediction_result = linear_regression_model.predict(x_test)"
   ]
  },
  {
   "cell_type": "code",
   "execution_count": 16,
   "metadata": {},
   "outputs": [],
   "source": [
    "table_1 = pd.DataFrame({'Real': y_test,\n",
    "                        'Prediction':prediction_result},index= index_test)"
   ]
  },
  {
   "cell_type": "code",
   "execution_count": 17,
   "metadata": {},
   "outputs": [
    {
     "data": {
      "text/html": [
       "<div>\n",
       "<style scoped>\n",
       "    .dataframe tbody tr th:only-of-type {\n",
       "        vertical-align: middle;\n",
       "    }\n",
       "\n",
       "    .dataframe tbody tr th {\n",
       "        vertical-align: top;\n",
       "    }\n",
       "\n",
       "    .dataframe thead th {\n",
       "        text-align: right;\n",
       "    }\n",
       "</style>\n",
       "<table border=\"1\" class=\"dataframe\">\n",
       "  <thead>\n",
       "    <tr style=\"text-align: right;\">\n",
       "      <th></th>\n",
       "      <th>Real</th>\n",
       "      <th>Prediction</th>\n",
       "    </tr>\n",
       "    <tr>\n",
       "      <th>Time</th>\n",
       "      <th></th>\n",
       "      <th></th>\n",
       "    </tr>\n",
       "  </thead>\n",
       "  <tbody>\n",
       "    <tr>\n",
       "      <th>2017-05-01</th>\n",
       "      <td>0.03800</td>\n",
       "      <td>0.038565</td>\n",
       "    </tr>\n",
       "    <tr>\n",
       "      <th>2017-06-01</th>\n",
       "      <td>0.03700</td>\n",
       "      <td>0.036674</td>\n",
       "    </tr>\n",
       "    <tr>\n",
       "      <th>2017-07-01</th>\n",
       "      <td>0.03360</td>\n",
       "      <td>0.033451</td>\n",
       "    </tr>\n",
       "    <tr>\n",
       "      <th>2017-08-01</th>\n",
       "      <td>0.04110</td>\n",
       "      <td>0.035560</td>\n",
       "    </tr>\n",
       "    <tr>\n",
       "      <th>2017-09-01</th>\n",
       "      <td>0.04000</td>\n",
       "      <td>0.032908</td>\n",
       "    </tr>\n",
       "    <tr>\n",
       "      <th>2017-10-01</th>\n",
       "      <td>0.03840</td>\n",
       "      <td>0.032067</td>\n",
       "    </tr>\n",
       "    <tr>\n",
       "      <th>2017-11-01</th>\n",
       "      <td>0.04054</td>\n",
       "      <td>0.033058</td>\n",
       "    </tr>\n",
       "    <tr>\n",
       "      <th>2017-12-01</th>\n",
       "      <td>0.03640</td>\n",
       "      <td>0.029458</td>\n",
       "    </tr>\n",
       "    <tr>\n",
       "      <th>2018-01-01</th>\n",
       "      <td>0.02902</td>\n",
       "      <td>0.020272</td>\n",
       "    </tr>\n",
       "    <tr>\n",
       "      <th>2018-02-01</th>\n",
       "      <td>0.02575</td>\n",
       "      <td>0.019124</td>\n",
       "    </tr>\n",
       "  </tbody>\n",
       "</table>\n",
       "</div>"
      ],
      "text/plain": [
       "               Real  Prediction\n",
       "Time                           \n",
       "2017-05-01  0.03800    0.038565\n",
       "2017-06-01  0.03700    0.036674\n",
       "2017-07-01  0.03360    0.033451\n",
       "2017-08-01  0.04110    0.035560\n",
       "2017-09-01  0.04000    0.032908\n",
       "2017-10-01  0.03840    0.032067\n",
       "2017-11-01  0.04054    0.033058\n",
       "2017-12-01  0.03640    0.029458\n",
       "2018-01-01  0.02902    0.020272\n",
       "2018-02-01  0.02575    0.019124"
      ]
     },
     "execution_count": 17,
     "metadata": {},
     "output_type": "execute_result"
    }
   ],
   "source": [
    "table_1.head(10)\n"
   ]
  },
  {
   "cell_type": "code",
   "execution_count": 18,
   "metadata": {},
   "outputs": [],
   "source": [
    "table_1.to_excel('OLS_result_1y.xlsx')"
   ]
  },
  {
   "cell_type": "code",
   "execution_count": 19,
   "metadata": {},
   "outputs": [
    {
     "data": {
      "image/png": "[encoded data removed]",
      "text/plain": [
       "<Figure size 2160x720 with 1 Axes>"
      ]
     },
     "metadata": {
      "needs_background": "light"
     },
     "output_type": "display_data"
    }
   ],
   "source": [
    "plt.figure(figsize=(30,10))\n",
    "\n",
    "plt.plot(table_1.Real,'--',linewidth= 4)\n",
    "plt.plot(table_1.Prediction,linewidth= 3)\n",
    "\n",
    "plt.legend(['Real','Predict'])\n",
    "\n",
    "plt.ylabel('Bond yield')\n",
    "plt.show()"
   ]
  },
  {
   "cell_type": "code",
   "execution_count": 20,
   "metadata": {},
   "outputs": [],
   "source": [
    "rmse = np.sqrt(mean_squared_error(table_1.Real, table_1.Prediction))\n",
    "mae = mean_absolute_error(table_1.Real, table_1.Prediction)\n",
    "mape = (mean_absolute_percentage_error(table_1.Real, table_1.Prediction))*100"
   ]
  },
  {
   "cell_type": "code",
   "execution_count": 21,
   "metadata": {},
   "outputs": [
    {
     "name": "stdout",
     "output_type": "stream",
     "text": [
      "RMSE = 0.007031219358861967\n",
      "MAE  = 0.006328144020434618\n",
      "MAPE = 21.4%\n"
     ]
    }
   ],
   "source": [
    "print(f'RMSE = {rmse}')\n",
    "print(f'MAE  = {mae}')\n",
    "print(f'MAPE = {round(mape,2)}%')\n"
   ]
  }
 ],
 "metadata": {
  "interpreter": {
   "hash": "8da01e5a71448ea74f54d88afa8911010d1d12e23bc7e103d40d5def4a09152c"
  },
  "kernelspec": {
   "display_name": "Python 3.9.1 64-bit",
   "name": "python3"
  },
  "language_info": {
   "codemirror_mode": {
    "name": "ipython",
    "version": 3
   },
   "file_extension": ".py",
   "mimetype": "text/x-python",
   "name": "python",
   "nbconvert_exporter": "python",
   "pygments_lexer": "ipython3",
   "version": "3.9.1"
  },
  "orig_nbformat": 4
 },
 "nbformat": 4,
 "nbformat_minor": 2
}
