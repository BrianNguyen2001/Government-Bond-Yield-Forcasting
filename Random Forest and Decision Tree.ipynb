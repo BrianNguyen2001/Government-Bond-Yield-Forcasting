{
 "cells": [
  {
   "cell_type": "code",
   "execution_count": 32,
   "metadata": {},
   "outputs": [],
   "source": [
    "import numpy as np\n",
    "import pandas as pd \n",
    "import matplotlib.pyplot as plt "
   ]
  },
  {
   "cell_type": "code",
   "execution_count": 33,
   "metadata": {},
   "outputs": [],
   "source": [
    "from sklearn.model_selection import train_test_split\n",
    "from sklearn.tree import DecisionTreeRegressor\n",
    "from sklearn.ensemble import RandomForestRegressor, GradientBoostingRegressor\n",
    "from sklearn.metrics import mean_squared_error, mean_absolute_error, mean_absolute_percentage_error"
   ]
  },
  {
   "cell_type": "code",
   "execution_count": 34,
   "metadata": {},
   "outputs": [],
   "source": [
    "df = pd.read_csv(r\"Bond-VN.csv\", index_col= 0,parse_dates=True)\n",
    "\n",
    "y = df.GGVF5Y\n",
    "x = df[['GGVF1Y','GGVF3Y','CPI','FER','Baserate','FIR', 'Stockreturn','Fiscal', 'Pubdebt', 'CurrentAcc']]"
   ]
  },
  {
   "cell_type": "code",
   "execution_count": 35,
   "metadata": {},
   "outputs": [],
   "source": [
    "n_state = 50\n",
    "x_train, x_test, y_train, y_test = train_test_split(x,y, train_size = 0.7, test_size = 0.3, random_state=n_state) "
   ]
  },
  {
   "cell_type": "markdown",
   "metadata": {},
   "source": [
    "# Decision Tree Regressor"
   ]
  },
  {
   "cell_type": "code",
   "execution_count": 36,
   "metadata": {},
   "outputs": [],
   "source": [
    "decision_tree = DecisionTreeRegressor(random_state=n_state)\n",
    "decision_tree.fit(x_train, y_train);"
   ]
  },
  {
   "cell_type": "code",
   "execution_count": 37,
   "metadata": {},
   "outputs": [
    {
     "data": {
      "text/html": [
       "<div>\n",
       "<style scoped>\n",
       "    .dataframe tbody tr th:only-of-type {\n",
       "        vertical-align: middle;\n",
       "    }\n",
       "\n",
       "    .dataframe tbody tr th {\n",
       "        vertical-align: top;\n",
       "    }\n",
       "\n",
       "    .dataframe thead th {\n",
       "        text-align: right;\n",
       "    }\n",
       "</style>\n",
       "<table border=\"1\" class=\"dataframe\">\n",
       "  <thead>\n",
       "    <tr style=\"text-align: right;\">\n",
       "      <th></th>\n",
       "      <th>Real</th>\n",
       "      <th>Prediction</th>\n",
       "    </tr>\n",
       "    <tr>\n",
       "      <th>Time</th>\n",
       "      <th></th>\n",
       "      <th></th>\n",
       "    </tr>\n",
       "  </thead>\n",
       "  <tbody>\n",
       "    <tr>\n",
       "      <th>2006-10-01</th>\n",
       "      <td>0.08388</td>\n",
       "      <td>0.08560</td>\n",
       "    </tr>\n",
       "    <tr>\n",
       "      <th>2007-07-01</th>\n",
       "      <td>0.07559</td>\n",
       "      <td>0.07904</td>\n",
       "    </tr>\n",
       "    <tr>\n",
       "      <th>2007-09-01</th>\n",
       "      <td>0.08150</td>\n",
       "      <td>0.08292</td>\n",
       "    </tr>\n",
       "    <tr>\n",
       "      <th>2007-11-01</th>\n",
       "      <td>0.08617</td>\n",
       "      <td>0.08711</td>\n",
       "    </tr>\n",
       "    <tr>\n",
       "      <th>2008-03-01</th>\n",
       "      <td>0.08730</td>\n",
       "      <td>0.08644</td>\n",
       "    </tr>\n",
       "    <tr>\n",
       "      <th>2008-04-01</th>\n",
       "      <td>0.09900</td>\n",
       "      <td>0.15420</td>\n",
       "    </tr>\n",
       "    <tr>\n",
       "      <th>2008-06-01</th>\n",
       "      <td>0.20333</td>\n",
       "      <td>0.19940</td>\n",
       "    </tr>\n",
       "  </tbody>\n",
       "</table>\n",
       "</div>"
      ],
      "text/plain": [
       "               Real  Prediction\n",
       "Time                           \n",
       "2006-10-01  0.08388     0.08560\n",
       "2007-07-01  0.07559     0.07904\n",
       "2007-09-01  0.08150     0.08292\n",
       "2007-11-01  0.08617     0.08711\n",
       "2008-03-01  0.08730     0.08644\n",
       "2008-04-01  0.09900     0.15420\n",
       "2008-06-01  0.20333     0.19940"
      ]
     },
     "execution_count": 37,
     "metadata": {},
     "output_type": "execute_result"
    }
   ],
   "source": [
    "pred_decision_tree = decision_tree.predict(x_test)\n",
    "result_decision_tree = pd.DataFrame({'Real': y_test, 'Prediction': pred_decision_tree})\n",
    "result_decision_tree.sort_index(inplace=True)\n",
    "result_decision_tree.head(7)"
   ]
  },
  {
   "cell_type": "code",
   "execution_count": 38,
   "metadata": {},
   "outputs": [],
   "source": [
    "# plt.figure(figsize=(30,10))\n",
    "\n",
    "# plt.plot(result_decision_tree.Real,'--')\n",
    "# plt.plot(result_decision_tree.Prediction)\n",
    "\n",
    "# plt.legend(['Real','Predict'])\n",
    "\n",
    "# plt.ylabel('Bond yield')\n",
    "\n",
    "# plt.show()"
   ]
  },
  {
   "cell_type": "code",
   "execution_count": 39,
   "metadata": {},
   "outputs": [],
   "source": [
    "rmse = np.sqrt(mean_squared_error(result_decision_tree.Real, result_decision_tree.Prediction))\n",
    "mae = mean_absolute_error(result_decision_tree.Real, result_decision_tree.Prediction)\n",
    "mape = (mean_absolute_percentage_error(result_decision_tree.Real, result_decision_tree.Prediction))*100"
   ]
  },
  {
   "cell_type": "code",
   "execution_count": 40,
   "metadata": {},
   "outputs": [
    {
     "name": "stdout",
     "output_type": "stream",
     "text": [
      "RMSE = 0.008322832039832674\n",
      "MAE  = 0.0030798979591836733\n",
      "MAPE = 4.73%\n"
     ]
    }
   ],
   "source": [
    "print(f'RMSE = {rmse}')\n",
    "print(f'MAE  = {mae}')\n",
    "print(f'MAPE = {round(mape,2)}%')\n"
   ]
  },
  {
   "cell_type": "markdown",
   "metadata": {},
   "source": [
    "# Random Forest Regressor"
   ]
  },
  {
   "cell_type": "code",
   "execution_count": 41,
   "metadata": {},
   "outputs": [],
   "source": [
    "random_forest = RandomForestRegressor(random_state = n_state)\n",
    "random_forest.fit(x_train, y_train);\n",
    "\n",
    "random_forest_pred = random_forest.predict(x_test)"
   ]
  },
  {
   "cell_type": "code",
   "execution_count": 42,
   "metadata": {},
   "outputs": [
    {
     "data": {
      "text/html": [
       "<div>\n",
       "<style scoped>\n",
       "    .dataframe tbody tr th:only-of-type {\n",
       "        vertical-align: middle;\n",
       "    }\n",
       "\n",
       "    .dataframe tbody tr th {\n",
       "        vertical-align: top;\n",
       "    }\n",
       "\n",
       "    .dataframe thead th {\n",
       "        text-align: right;\n",
       "    }\n",
       "</style>\n",
       "<table border=\"1\" class=\"dataframe\">\n",
       "  <thead>\n",
       "    <tr style=\"text-align: right;\">\n",
       "      <th></th>\n",
       "      <th>Real</th>\n",
       "      <th>Prediction</th>\n",
       "    </tr>\n",
       "    <tr>\n",
       "      <th>Time</th>\n",
       "      <th></th>\n",
       "      <th></th>\n",
       "    </tr>\n",
       "  </thead>\n",
       "  <tbody>\n",
       "    <tr>\n",
       "      <th>2006-10-01</th>\n",
       "      <td>0.08388</td>\n",
       "      <td>0.085983</td>\n",
       "    </tr>\n",
       "    <tr>\n",
       "      <th>2007-07-01</th>\n",
       "      <td>0.07559</td>\n",
       "      <td>0.076449</td>\n",
       "    </tr>\n",
       "    <tr>\n",
       "      <th>2007-09-01</th>\n",
       "      <td>0.08150</td>\n",
       "      <td>0.084108</td>\n",
       "    </tr>\n",
       "    <tr>\n",
       "      <th>2007-11-01</th>\n",
       "      <td>0.08617</td>\n",
       "      <td>0.086763</td>\n",
       "    </tr>\n",
       "    <tr>\n",
       "      <th>2008-03-01</th>\n",
       "      <td>0.08730</td>\n",
       "      <td>0.086309</td>\n",
       "    </tr>\n",
       "    <tr>\n",
       "      <th>2008-04-01</th>\n",
       "      <td>0.09900</td>\n",
       "      <td>0.101445</td>\n",
       "    </tr>\n",
       "    <tr>\n",
       "      <th>2008-06-01</th>\n",
       "      <td>0.20333</td>\n",
       "      <td>0.176409</td>\n",
       "    </tr>\n",
       "  </tbody>\n",
       "</table>\n",
       "</div>"
      ],
      "text/plain": [
       "               Real  Prediction\n",
       "Time                           \n",
       "2006-10-01  0.08388    0.085983\n",
       "2007-07-01  0.07559    0.076449\n",
       "2007-09-01  0.08150    0.084108\n",
       "2007-11-01  0.08617    0.086763\n",
       "2008-03-01  0.08730    0.086309\n",
       "2008-04-01  0.09900    0.101445\n",
       "2008-06-01  0.20333    0.176409"
      ]
     },
     "execution_count": 42,
     "metadata": {},
     "output_type": "execute_result"
    }
   ],
   "source": [
    "result_random_forest = pd.DataFrame({'Real': y_test, 'Prediction': random_forest_pred})\n",
    "result_random_forest.sort_index(inplace=True)\n",
    "result_random_forest.head(7)"
   ]
  },
  {
   "cell_type": "code",
   "execution_count": 43,
   "metadata": {},
   "outputs": [],
   "source": [
    "# plt.figure(figsize=(30,15))\n",
    "\n",
    "# plt.plot(result_random_forest.Real,'--')\n",
    "# plt.plot(result_random_forest.Prediction)\n",
    "\n",
    "# plt.legend(['Real','Predict'])\n",
    "\n",
    "# plt.xlabel('Year')\n",
    "# plt.ylabel('Bond yield')\n",
    "# plt.show()"
   ]
  },
  {
   "cell_type": "code",
   "execution_count": 44,
   "metadata": {},
   "outputs": [],
   "source": [
    "rmse = np.sqrt(mean_squared_error(result_random_forest.Real, result_random_forest.Prediction))\n",
    "mae = mean_absolute_error(result_random_forest.Real, result_random_forest.Prediction)\n",
    "mape = (mean_absolute_percentage_error(result_random_forest.Real, result_random_forest.Prediction))*100"
   ]
  },
  {
   "cell_type": "code",
   "execution_count": 45,
   "metadata": {},
   "outputs": [
    {
     "name": "stdout",
     "output_type": "stream",
     "text": [
      "RMSE = 0.004510184008034078\n",
      "MAE  = 0.0021322877551020365\n",
      "MAPE = 3.47%\n"
     ]
    }
   ],
   "source": [
    "print(f'RMSE = {rmse}')\n",
    "print(f'MAE  = {mae}')\n",
    "print(f'MAPE = {round(mape,2)}%')\n"
   ]
  }
 ],
 "metadata": {
  "interpreter": {
   "hash": "8da01e5a71448ea74f54d88afa8911010d1d12e23bc7e103d40d5def4a09152c"
  },
  "kernelspec": {
   "display_name": "Python 3.9.1 64-bit",
   "language": "python",
   "name": "python3"
  },
  "language_info": {
   "codemirror_mode": {
    "name": "ipython",
    "version": 3
   },
   "file_extension": ".py",
   "mimetype": "text/x-python",
   "name": "python",
   "nbconvert_exporter": "python",
   "pygments_lexer": "ipython3",
   "version": "3.9.1"
  },
  "orig_nbformat": 4
 },
 "nbformat": 4,
 "nbformat_minor": 2
}
