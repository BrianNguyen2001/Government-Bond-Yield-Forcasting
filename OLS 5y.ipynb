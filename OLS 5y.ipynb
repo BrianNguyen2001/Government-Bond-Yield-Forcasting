{
 "cells": [
  {
   "cell_type": "code",
   "execution_count": 108,
   "metadata": {},
   "outputs": [],
   "source": [
    "import numpy as np\n",
    "import pandas as pd \n",
    "import matplotlib.pyplot as plt \n",
    "from statsmodels.tsa.seasonal import seasonal_decompose \n",
    "import statsmodels.api as sm\n",
    "import seaborn as sns \n",
    "import statsmodels"
   ]
  },
  {
   "cell_type": "code",
   "execution_count": 109,
   "metadata": {},
   "outputs": [],
   "source": [
    "from sklearn.model_selection import train_test_split\n",
    "from sklearn.tree import DecisionTreeRegressor\n",
    "from sklearn.metrics import mean_squared_error, mean_absolute_error, mean_absolute_percentage_error"
   ]
  },
  {
   "cell_type": "code",
   "execution_count": 110,
   "metadata": {},
   "outputs": [],
   "source": [
    "df = pd.read_csv(r'Bond-VN.csv', index_col= 0,parse_dates=True)\n",
    "df = df[['GGVF5Y','GGVF1Y','GGVF3Y','CPI','FER','Baserate','FIR','Stockreturn','Fiscal','Pubdebt','CurrentAcc']]\n"
   ]
  },
  {
   "cell_type": "code",
   "execution_count": 111,
   "metadata": {},
   "outputs": [],
   "source": [
    "nobs = int(len(df)*0.2)\n",
    "df_train, df_test = df[0:-nobs], df[-nobs:]"
   ]
  },
  {
   "cell_type": "code",
   "execution_count": 112,
   "metadata": {},
   "outputs": [
    {
     "data": {
      "text/html": [
       "<div>\n",
       "<style scoped>\n",
       "    .dataframe tbody tr th:only-of-type {\n",
       "        vertical-align: middle;\n",
       "    }\n",
       "\n",
       "    .dataframe tbody tr th {\n",
       "        vertical-align: top;\n",
       "    }\n",
       "\n",
       "    .dataframe thead th {\n",
       "        text-align: right;\n",
       "    }\n",
       "</style>\n",
       "<table border=\"1\" class=\"dataframe\">\n",
       "  <thead>\n",
       "    <tr style=\"text-align: right;\">\n",
       "      <th></th>\n",
       "      <th>GGVF5Y</th>\n",
       "      <th>GGVF1Y</th>\n",
       "      <th>GGVF3Y</th>\n",
       "      <th>CPI</th>\n",
       "      <th>FER</th>\n",
       "      <th>Baserate</th>\n",
       "      <th>FIR</th>\n",
       "      <th>Stockreturn</th>\n",
       "      <th>Fiscal</th>\n",
       "      <th>Pubdebt</th>\n",
       "      <th>CurrentAcc</th>\n",
       "    </tr>\n",
       "  </thead>\n",
       "  <tbody>\n",
       "    <tr>\n",
       "      <th>count</th>\n",
       "      <td>162.000000</td>\n",
       "      <td>162.000000</td>\n",
       "      <td>162.000000</td>\n",
       "      <td>162.000000</td>\n",
       "      <td>1.620000e+02</td>\n",
       "      <td>162.000000</td>\n",
       "      <td>162.000000</td>\n",
       "      <td>162.000000</td>\n",
       "      <td>162.000000</td>\n",
       "      <td>162.000000</td>\n",
       "      <td>162.000000</td>\n",
       "    </tr>\n",
       "    <tr>\n",
       "      <th>mean</th>\n",
       "      <td>0.080725</td>\n",
       "      <td>0.071499</td>\n",
       "      <td>0.076911</td>\n",
       "      <td>0.601198</td>\n",
       "      <td>3.113248e+10</td>\n",
       "      <td>8.885802</td>\n",
       "      <td>1.479954</td>\n",
       "      <td>0.764756</td>\n",
       "      <td>-2.879439</td>\n",
       "      <td>50.436752</td>\n",
       "      <td>-0.392593</td>\n",
       "    </tr>\n",
       "    <tr>\n",
       "      <th>std</th>\n",
       "      <td>0.033168</td>\n",
       "      <td>0.036271</td>\n",
       "      <td>0.034570</td>\n",
       "      <td>0.793960</td>\n",
       "      <td>1.633594e+10</td>\n",
       "      <td>1.085656</td>\n",
       "      <td>1.826785</td>\n",
       "      <td>8.797782</td>\n",
       "      <td>1.856116</td>\n",
       "      <td>6.870214</td>\n",
       "      <td>5.182574</td>\n",
       "    </tr>\n",
       "    <tr>\n",
       "      <th>min</th>\n",
       "      <td>0.020000</td>\n",
       "      <td>0.015500</td>\n",
       "      <td>0.018380</td>\n",
       "      <td>-0.756000</td>\n",
       "      <td>1.246660e+10</td>\n",
       "      <td>7.000000</td>\n",
       "      <td>0.310000</td>\n",
       "      <td>-24.009196</td>\n",
       "      <td>-5.027260</td>\n",
       "      <td>38.406899</td>\n",
       "      <td>-11.000000</td>\n",
       "    </tr>\n",
       "    <tr>\n",
       "      <th>25%</th>\n",
       "      <td>0.054277</td>\n",
       "      <td>0.043233</td>\n",
       "      <td>0.049960</td>\n",
       "      <td>0.131250</td>\n",
       "      <td>1.644710e+10</td>\n",
       "      <td>8.500000</td>\n",
       "      <td>0.375000</td>\n",
       "      <td>-3.245701</td>\n",
       "      <td>-4.260530</td>\n",
       "      <td>45.166601</td>\n",
       "      <td>-3.800000</td>\n",
       "    </tr>\n",
       "    <tr>\n",
       "      <th>50%</th>\n",
       "      <td>0.080000</td>\n",
       "      <td>0.067000</td>\n",
       "      <td>0.076030</td>\n",
       "      <td>0.404500</td>\n",
       "      <td>2.589349e+10</td>\n",
       "      <td>9.000000</td>\n",
       "      <td>0.500000</td>\n",
       "      <td>0.774177</td>\n",
       "      <td>-3.481840</td>\n",
       "      <td>51.674497</td>\n",
       "      <td>2.100000</td>\n",
       "    </tr>\n",
       "    <tr>\n",
       "      <th>75%</th>\n",
       "      <td>0.101268</td>\n",
       "      <td>0.092365</td>\n",
       "      <td>0.097433</td>\n",
       "      <td>0.831250</td>\n",
       "      <td>3.652729e+10</td>\n",
       "      <td>9.000000</td>\n",
       "      <td>2.000000</td>\n",
       "      <td>4.193213</td>\n",
       "      <td>-0.897920</td>\n",
       "      <td>57.097769</td>\n",
       "      <td>2.900000</td>\n",
       "    </tr>\n",
       "    <tr>\n",
       "      <th>max</th>\n",
       "      <td>0.203330</td>\n",
       "      <td>0.211670</td>\n",
       "      <td>0.206670</td>\n",
       "      <td>3.912000</td>\n",
       "      <td>6.881210e+10</td>\n",
       "      <td>14.000000</td>\n",
       "      <td>9.000000</td>\n",
       "      <td>38.517100</td>\n",
       "      <td>1.224610</td>\n",
       "      <td>59.662135</td>\n",
       "      <td>6.000000</td>\n",
       "    </tr>\n",
       "  </tbody>\n",
       "</table>\n",
       "</div>"
      ],
      "text/plain": [
       "           GGVF5Y      GGVF1Y      GGVF3Y         CPI           FER  \\\n",
       "count  162.000000  162.000000  162.000000  162.000000  1.620000e+02   \n",
       "mean     0.080725    0.071499    0.076911    0.601198  3.113248e+10   \n",
       "std      0.033168    0.036271    0.034570    0.793960  1.633594e+10   \n",
       "min      0.020000    0.015500    0.018380   -0.756000  1.246660e+10   \n",
       "25%      0.054277    0.043233    0.049960    0.131250  1.644710e+10   \n",
       "50%      0.080000    0.067000    0.076030    0.404500  2.589349e+10   \n",
       "75%      0.101268    0.092365    0.097433    0.831250  3.652729e+10   \n",
       "max      0.203330    0.211670    0.206670    3.912000  6.881210e+10   \n",
       "\n",
       "         Baserate         FIR  Stockreturn      Fiscal     Pubdebt  CurrentAcc  \n",
       "count  162.000000  162.000000   162.000000  162.000000  162.000000  162.000000  \n",
       "mean     8.885802    1.479954     0.764756   -2.879439   50.436752   -0.392593  \n",
       "std      1.085656    1.826785     8.797782    1.856116    6.870214    5.182574  \n",
       "min      7.000000    0.310000   -24.009196   -5.027260   38.406899  -11.000000  \n",
       "25%      8.500000    0.375000    -3.245701   -4.260530   45.166601   -3.800000  \n",
       "50%      9.000000    0.500000     0.774177   -3.481840   51.674497    2.100000  \n",
       "75%      9.000000    2.000000     4.193213   -0.897920   57.097769    2.900000  \n",
       "max     14.000000    9.000000    38.517100    1.224610   59.662135    6.000000  "
      ]
     },
     "execution_count": 112,
     "metadata": {},
     "output_type": "execute_result"
    }
   ],
   "source": [
    "df.describe()"
   ]
  },
  {
   "cell_type": "markdown",
   "metadata": {},
   "source": [
    "# Linear Regression (OLS)"
   ]
  },
  {
   "cell_type": "code",
   "execution_count": 113,
   "metadata": {},
   "outputs": [],
   "source": [
    "# y_train = df_train.GGVF5Y\n",
    "# x_train = df_train[['GGVF1Y','CPI','FER','Baserate','FIR','Fiscal','CurrentAcc']]\n",
    "\n",
    "# y_test = df_test.GGVF5Y\n",
    "# x_test = df_test[['GGVF1Y','CPI','FER','Baserate','FIR','Fiscal','CurrentAcc']]\n"
   ]
  },
  {
   "cell_type": "code",
   "execution_count": 114,
   "metadata": {},
   "outputs": [],
   "source": [
    "y_train = df_train.GGVF5Y\n",
    "x_train = df_train[['GGVF1Y','CPI','FER','Baserate','FIR','Stockreturn','Fiscal','Pubdebt','CurrentAcc']]\n",
    "\n",
    "y_test = df_test.GGVF5Y\n",
    "x_test = df_test[['GGVF1Y','CPI','FER','Baserate','FIR','Stockreturn','Fiscal','Pubdebt','CurrentAcc']]\n"
   ]
  },
  {
   "cell_type": "code",
   "execution_count": 115,
   "metadata": {},
   "outputs": [],
   "source": [
    "x_train,y_train = np.array(x_train), np.array(y_train)\n",
    "# x_train = sm.add_constant(x_train)\n"
   ]
  },
  {
   "cell_type": "code",
   "execution_count": 116,
   "metadata": {},
   "outputs": [],
   "source": [
    "x_test, y_test = np.array(x_test), np.array(y_test)\n",
    "# x_test = sm.add_constant(x_test)"
   ]
  },
  {
   "cell_type": "code",
   "execution_count": 117,
   "metadata": {},
   "outputs": [
    {
     "name": "stdout",
     "output_type": "stream",
     "text": [
      "                                 OLS Regression Results                                \n",
      "=======================================================================================\n",
      "Dep. Variable:                      y   R-squared (uncentered):                   0.998\n",
      "Model:                            OLS   Adj. R-squared (uncentered):              0.998\n",
      "Method:                 Least Squares   F-statistic:                              7078.\n",
      "Date:                Wed, 16 Mar 2022   Prob (F-statistic):                   3.38e-160\n",
      "Time:                        02:59:18   Log-Likelihood:                          528.53\n",
      "No. Observations:                 130   AIC:                                     -1039.\n",
      "Df Residuals:                     121   BIC:                                     -1013.\n",
      "Df Model:                           9                                                  \n",
      "Covariance Type:            nonrobust                                                  \n",
      "==============================================================================\n",
      "                 coef    std err          t      P>|t|      [0.025      0.975]\n",
      "------------------------------------------------------------------------------\n",
      "x1             0.8053      0.025     31.657      0.000       0.755       0.856\n",
      "x2             0.0015      0.001      2.957      0.004       0.001       0.003\n",
      "x3         -4.272e-13   8.51e-14     -5.019      0.000   -5.96e-13   -2.59e-13\n",
      "x4             0.0019      0.001      3.266      0.001       0.001       0.003\n",
      "x5             0.0004      0.000      1.483      0.141      -0.000       0.001\n",
      "x6         -1.175e-05   4.22e-05     -0.279      0.781   -9.52e-05    7.17e-05\n",
      "x7            -0.0010      0.000     -2.649      0.009      -0.002      -0.000\n",
      "x8             0.0003   7.24e-05      4.159      0.000       0.000       0.000\n",
      "x9             0.0001   9.53e-05      1.562      0.121   -3.99e-05       0.000\n",
      "==============================================================================\n",
      "Omnibus:                        4.299   Durbin-Watson:                   0.578\n",
      "Prob(Omnibus):                  0.117   Jarque-Bera (JB):                4.497\n",
      "Skew:                           0.218   Prob(JB):                        0.106\n",
      "Kurtosis:                       3.800   Cond. No.                     1.74e+12\n",
      "==============================================================================\n",
      "\n",
      "Notes:\n",
      "[1] R² is computed without centering (uncentered) since the model does not contain a constant.\n",
      "[2] Standard Errors assume that the covariance matrix of the errors is correctly specified.\n",
      "[3] The condition number is large, 1.74e+12. This might indicate that there are\n",
      "strong multicollinearity or other numerical problems.\n"
     ]
    }
   ],
   "source": [
    "linear_regression_model = sm.OLS(y_train,x_train).fit()\n",
    "print(linear_regression_model.summary())"
   ]
  },
  {
   "cell_type": "markdown",
   "metadata": {},
   "source": [
    "***=> CPI, Oilrate, Stockreturn, Fiscal và CurrentAcc không có ý nghĩa thống kê. Tuy nhiên ta không thể loại bỏ các biến này được. Ta cần kiểm tra sự phụ thuộc của chúng vào các biến độc lập khác.***"
   ]
  },
  {
   "cell_type": "markdown",
   "metadata": {},
   "source": [
    "# Đa cộng tuyến"
   ]
  },
  {
   "cell_type": "code",
   "execution_count": 118,
   "metadata": {},
   "outputs": [],
   "source": [
    "# corr = df[['GGVF1Y','CPI','FER','Baserate','FIR','Fiscal','CurrentAcc']].corr()\n",
    "# print('Pearson correlation coefficient matrix of each variables:\\n', corr)"
   ]
  },
  {
   "cell_type": "code",
   "execution_count": 119,
   "metadata": {},
   "outputs": [
    {
     "name": "stdout",
     "output_type": "stream",
     "text": [
      "Pearson correlation coefficient matrix of each variables:\n",
      "                GGVF1Y       CPI       FER  Baserate       FIR  Stockreturn  \\\n",
      "GGVF1Y       1.000000  0.407160 -0.711157  0.355946  0.053033    -0.075170   \n",
      "CPI          0.407160  1.000000 -0.284340  0.089155  0.208437    -0.146612   \n",
      "FER         -0.711157 -0.284340  1.000000  0.164828  0.035706     0.001924   \n",
      "Baserate     0.355946  0.089155  0.164828  1.000000  0.123343    -0.162785   \n",
      "FIR          0.053033  0.208437  0.035706  0.123343  1.000000     0.016992   \n",
      "Stockreturn -0.075170 -0.146612  0.001924 -0.162785  0.016992     1.000000   \n",
      "Fiscal       0.595066  0.434922 -0.470086  0.241336  0.593817    -0.130853   \n",
      "Pubdebt     -0.724315 -0.421521  0.695418 -0.019829 -0.514509     0.056811   \n",
      "CurrentAcc  -0.477741 -0.363015  0.410349 -0.051126 -0.520684     0.105618   \n",
      "\n",
      "               Fiscal   Pubdebt  CurrentAcc  \n",
      "GGVF1Y       0.595066 -0.724315   -0.477741  \n",
      "CPI          0.434922 -0.421521   -0.363015  \n",
      "FER         -0.470086  0.695418    0.410349  \n",
      "Baserate     0.241336 -0.019829   -0.051126  \n",
      "FIR          0.593817 -0.514509   -0.520684  \n",
      "Stockreturn -0.130853  0.056811    0.105618  \n",
      "Fiscal       1.000000 -0.795947   -0.622307  \n",
      "Pubdebt     -0.795947  1.000000    0.698031  \n",
      "CurrentAcc  -0.622307  0.698031    1.000000  \n"
     ]
    }
   ],
   "source": [
    "corr = df[['GGVF1Y','CPI','FER','Baserate','FIR','Stockreturn','Fiscal','Pubdebt','CurrentAcc']].corr()\n",
    "print('Pearson correlation coefficient matrix of each variables:\\n', corr)"
   ]
  },
  {
   "cell_type": "code",
   "execution_count": 120,
   "metadata": {},
   "outputs": [
    {
     "name": "stderr",
     "output_type": "stream",
     "text": [
      "<ipython-input-120-65927551eb8b>:2: DeprecationWarning: `np.bool` is a deprecated alias for the builtin `bool`. To silence this warning, use `bool` by itself. Doing this will not modify any behavior and is safe. If you specifically wanted the numpy scalar type, use `np.bool_` here.\n",
      "Deprecated in NumPy 1.20; for more details and guidance: https://numpy.org/devdocs/release/1.20.0-notes.html#deprecations\n",
      "  mask = np.zeros_like(corr, dtype=np.bool)\n"
     ]
    },
    {
     "data": {
      "image/png": "[encoded data removed]",
      "text/plain": [
       "<Figure size 2160x720 with 2 Axes>"
      ]
     },
     "metadata": {
      "needs_background": "light"
     },
     "output_type": "display_data"
    }
   ],
   "source": [
    "# Generate a mask for the diagonal cell\n",
    "mask = np.zeros_like(corr, dtype=np.bool)\n",
    "np.fill_diagonal(mask, val=True)\n",
    "\n",
    "# Initialize matplotlib figure\n",
    "fig, ax = plt.subplots(figsize=(30, 10))\n",
    "\n",
    "# Generate a custom diverging colormap\n",
    "cmap = sns.diverging_palette(220, 10, as_cmap=True, sep=100)\n",
    "cmap.set_bad('grey')\n",
    "\n",
    "# Draw the heatmap with the mask and correct aspect ratio\n",
    "sns.heatmap(corr, mask=mask, cmap=cmap, vmin=-1, vmax=1, center=0, linewidths=.5)\n",
    "fig.suptitle('Pearson correlation coefficient matrix', fontsize=14)\n",
    "ax.tick_params(axis='both', which='major', labelsize=10)\n"
   ]
  },
  {
   "cell_type": "markdown",
   "metadata": {},
   "source": [
    "# Tự tương quan"
   ]
  },
  {
   "cell_type": "code",
   "execution_count": 121,
   "metadata": {},
   "outputs": [
    {
     "name": "stdout",
     "output_type": "stream",
     "text": [
      "Durbin-Watson: 0.5777221460606106 \n",
      "\n",
      "Signs of positive autocorrelation \n",
      "\n",
      "Assumption not satisfied\n"
     ]
    }
   ],
   "source": [
    "from statsmodels.stats.stattools import durbin_watson\n",
    "\n",
    "durbinWatson = durbin_watson(linear_regression_model.resid)\n",
    "\n",
    "print('Durbin-Watson:', durbinWatson,'\\n')\n",
    "if durbinWatson < 1.5:\n",
    "    print('Signs of positive autocorrelation', '\\n')\n",
    "    print('Assumption not satisfied')\n",
    "elif durbinWatson > 2.5:\n",
    "    print('Signs of negative autocorrelation', '\\n')\n",
    "    print('Assumption not satisfied')\n",
    "else:\n",
    "    print('Little to no autocorrelation', '\\n')\n",
    "    print('Assumption satisfied')"
   ]
  },
  {
   "cell_type": "markdown",
   "metadata": {},
   "source": [
    "# Kiểm định Ramsey"
   ]
  },
  {
   "cell_type": "code",
   "execution_count": 122,
   "metadata": {},
   "outputs": [
    {
     "name": "stdout",
     "output_type": "stream",
     "text": [
      "P-value of Ramsey test: 0.13650186353947544\n",
      "Vậy với α = 0,1 và P-value > 0.1, mô hình gốc có sự thiếu biến.\n"
     ]
    }
   ],
   "source": [
    "# Kiểm định Ramsey\n",
    "ramsey_test = statsmodels.stats.diagnostic.linear_reset(linear_regression_model, power=2, test_type='fitted')\n",
    "print(f'P-value of Ramsey test: {ramsey_test.pvalue}')\n",
    "\n",
    "if ramsey_test.pvalue < 0.1:\n",
    "    print('Vậy với α = 0,1 và P-value < 0.1, mô hình gốc không có sự thiếu biến.')\n",
    "else:\n",
    "    print('Vậy với α = 0,1 và P-value > 0.1, mô hình gốc có sự thiếu biến.')"
   ]
  },
  {
   "cell_type": "markdown",
   "metadata": {},
   "source": [
    "***Trực quan hóa***"
   ]
  },
  {
   "cell_type": "code",
   "execution_count": 123,
   "metadata": {},
   "outputs": [],
   "source": [
    "prediction_result = linear_regression_model.predict(x_test)"
   ]
  },
  {
   "cell_type": "code",
   "execution_count": 124,
   "metadata": {},
   "outputs": [],
   "source": [
    "table_1 = pd.DataFrame({'Real': y_test,\n",
    "                        'Prediction':prediction_result})"
   ]
  },
  {
   "cell_type": "code",
   "execution_count": 125,
   "metadata": {},
   "outputs": [
    {
     "data": {
      "text/html": [
       "<div>\n",
       "<style scoped>\n",
       "    .dataframe tbody tr th:only-of-type {\n",
       "        vertical-align: middle;\n",
       "    }\n",
       "\n",
       "    .dataframe tbody tr th {\n",
       "        vertical-align: top;\n",
       "    }\n",
       "\n",
       "    .dataframe thead th {\n",
       "        text-align: right;\n",
       "    }\n",
       "</style>\n",
       "<table border=\"1\" class=\"dataframe\">\n",
       "  <thead>\n",
       "    <tr style=\"text-align: right;\">\n",
       "      <th></th>\n",
       "      <th>Real</th>\n",
       "      <th>Prediction</th>\n",
       "    </tr>\n",
       "  </thead>\n",
       "  <tbody>\n",
       "    <tr>\n",
       "      <th>0</th>\n",
       "      <td>0.05078</td>\n",
       "      <td>0.047881</td>\n",
       "    </tr>\n",
       "    <tr>\n",
       "      <th>1</th>\n",
       "      <td>0.04940</td>\n",
       "      <td>0.047593</td>\n",
       "    </tr>\n",
       "    <tr>\n",
       "      <th>2</th>\n",
       "      <td>0.04712</td>\n",
       "      <td>0.045451</td>\n",
       "    </tr>\n",
       "    <tr>\n",
       "      <th>3</th>\n",
       "      <td>0.04986</td>\n",
       "      <td>0.052720</td>\n",
       "    </tr>\n",
       "    <tr>\n",
       "      <th>4</th>\n",
       "      <td>0.04708</td>\n",
       "      <td>0.051314</td>\n",
       "    </tr>\n",
       "    <tr>\n",
       "      <th>5</th>\n",
       "      <td>0.04610</td>\n",
       "      <td>0.049734</td>\n",
       "    </tr>\n",
       "    <tr>\n",
       "      <th>6</th>\n",
       "      <td>0.04636</td>\n",
       "      <td>0.050918</td>\n",
       "    </tr>\n",
       "    <tr>\n",
       "      <th>7</th>\n",
       "      <td>0.04360</td>\n",
       "      <td>0.047826</td>\n",
       "    </tr>\n",
       "    <tr>\n",
       "      <th>8</th>\n",
       "      <td>0.03400</td>\n",
       "      <td>0.038817</td>\n",
       "    </tr>\n",
       "    <tr>\n",
       "      <th>9</th>\n",
       "      <td>0.03363</td>\n",
       "      <td>0.036670</td>\n",
       "    </tr>\n",
       "  </tbody>\n",
       "</table>\n",
       "</div>"
      ],
      "text/plain": [
       "      Real  Prediction\n",
       "0  0.05078    0.047881\n",
       "1  0.04940    0.047593\n",
       "2  0.04712    0.045451\n",
       "3  0.04986    0.052720\n",
       "4  0.04708    0.051314\n",
       "5  0.04610    0.049734\n",
       "6  0.04636    0.050918\n",
       "7  0.04360    0.047826\n",
       "8  0.03400    0.038817\n",
       "9  0.03363    0.036670"
      ]
     },
     "execution_count": 125,
     "metadata": {},
     "output_type": "execute_result"
    }
   ],
   "source": [
    "table_1.head(10)\n"
   ]
  },
  {
   "cell_type": "code",
   "execution_count": 126,
   "metadata": {},
   "outputs": [
    {
     "data": {
      "image/png": "[encoded data removed]",
      "text/plain": [
       "<Figure size 2160x720 with 1 Axes>"
      ]
     },
     "metadata": {
      "needs_background": "light"
     },
     "output_type": "display_data"
    }
   ],
   "source": [
    "plt.figure(figsize=(30,10))\n",
    "\n",
    "plt.plot(y_test,'--')\n",
    "plt.plot(prediction_result)\n",
    "\n",
    "plt.legend(['Real','Predict'])\n",
    "\n",
    "plt.ylabel('Bond yield')\n",
    "plt.show()"
   ]
  },
  {
   "cell_type": "code",
   "execution_count": 127,
   "metadata": {},
   "outputs": [],
   "source": [
    "rmse = np.sqrt(mean_squared_error(table_1.Real, table_1.Prediction))\n",
    "mae = mean_absolute_error(table_1.Real, table_1.Prediction)\n",
    "mape = (mean_absolute_percentage_error(table_1.Real, table_1.Prediction))*100"
   ]
  },
  {
   "cell_type": "code",
   "execution_count": 128,
   "metadata": {},
   "outputs": [
    {
     "name": "stdout",
     "output_type": "stream",
     "text": [
      "RMSE = 0.0028801668088831857\n",
      "MAE  = 0.002481118212566254\n",
      "MAPE = 6.91%\n"
     ]
    }
   ],
   "source": [
    "print(f'RMSE = {rmse}')\n",
    "print(f'MAE  = {mae}')\n",
    "print(f'MAPE = {round(mape,2)}%')\n"
   ]
  },
  {
   "cell_type": "code",
   "execution_count": 129,
   "metadata": {},
   "outputs": [],
   "source": [
    "b = np.array([1,4,1,5,2,9,6,3,7,3,6,9,4,1])"
   ]
  },
  {
   "cell_type": "code",
   "execution_count": 130,
   "metadata": {},
   "outputs": [],
   "source": [
    "a = np.array([4,1,7,5,3,9,7,5,3,5,1,2,4,8])"
   ]
  },
  {
   "cell_type": "code",
   "execution_count": 131,
   "metadata": {},
   "outputs": [
    {
     "data": {
      "text/plain": [
       "14"
      ]
     },
     "execution_count": 131,
     "metadata": {},
     "output_type": "execute_result"
    }
   ],
   "source": [
    "len(a) "
   ]
  },
  {
   "cell_type": "code",
   "execution_count": 132,
   "metadata": {},
   "outputs": [
    {
     "data": {
      "text/plain": [
       "14"
      ]
     },
     "execution_count": 132,
     "metadata": {},
     "output_type": "execute_result"
    }
   ],
   "source": [
    "len(b)"
   ]
  },
  {
   "cell_type": "code",
   "execution_count": 133,
   "metadata": {},
   "outputs": [],
   "source": [
    "# a = np.array(1)\n",
    "# b = np.array(0.6)\n",
    "mse = mean_squared_error(a,b)\n",
    "rmse = np.sqrt(mean_squared_error(a,b))"
   ]
  },
  {
   "cell_type": "code",
   "execution_count": 134,
   "metadata": {},
   "outputs": [
    {
     "data": {
      "text/plain": [
       "14.5"
      ]
     },
     "execution_count": 134,
     "metadata": {},
     "output_type": "execute_result"
    }
   ],
   "source": [
    "mse"
   ]
  },
  {
   "cell_type": "code",
   "execution_count": 135,
   "metadata": {},
   "outputs": [
    {
     "data": {
      "text/plain": [
       "3.8078865529319543"
      ]
     },
     "execution_count": 135,
     "metadata": {},
     "output_type": "execute_result"
    }
   ],
   "source": [
    "rmse"
   ]
  }
 ],
 "metadata": {
  "interpreter": {
   "hash": "8da01e5a71448ea74f54d88afa8911010d1d12e23bc7e103d40d5def4a09152c"
  },
  "kernelspec": {
   "display_name": "Python 3.9.1 64-bit",
   "name": "python3"
  },
  "language_info": {
   "codemirror_mode": {
    "name": "ipython",
    "version": 3
   },
   "file_extension": ".py",
   "mimetype": "text/x-python",
   "name": "python",
   "nbconvert_exporter": "python",
   "pygments_lexer": "ipython3",
   "version": "3.9.1"
  },
  "orig_nbformat": 4
 },
 "nbformat": 4,
 "nbformat_minor": 2
}
